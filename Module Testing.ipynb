{
 "cells": [
  {
   "cell_type": "markdown",
   "id": "310ed534-afef-420b-8cc6-58278bb23df7",
   "metadata": {},
   "source": [
    "# SectionPy Module Testing Notebook\n",
    "Jupyter Notebook created by **Ben Fisher** for testing and development of the StaticsPy library and for examples and explanation of the functions"
   ]
  },
  {
   "cell_type": "markdown",
   "id": "27b1c687-3f36-4c95-ad6a-1828fcdabb77",
   "metadata": {},
   "source": [
    "## Imports"
   ]
  },
  {
   "cell_type": "code",
   "execution_count": 1,
   "id": "726249e4-6985-48ed-a99c-a6c299779f43",
   "metadata": {},
   "outputs": [
    {
     "data": {
      "text/plain": [
       "'0.0.1'"
      ]
     },
     "execution_count": 1,
     "metadata": {},
     "output_type": "execute_result"
    }
   ],
   "source": [
    "import matplotlib.patches as mpatches\n",
    "import matplotlib.pyplot as plt\n",
    "import numpy as np\n",
    "import pandas as pd\n",
    "import os, sys\n",
    "from math import sqrt\n",
    "module_path = os.path.abspath(os.path.join(\"C:\\\\Users\\\\benst\\\\Documents\\\\_0 Workspace\\\\py\\\\SectionPy\\\\SectionPy\\\\section.py\"))\n",
    "if module_path not in sys.path:\n",
    "    sys.path.append(module_path)\n",
    "import section as sc\n",
    "sc.__version__"
   ]
  },
  {
   "cell_type": "markdown",
   "id": "dbd21dc9-1432-4e1f-9147-249439ebddf5",
   "metadata": {},
   "source": [
    "## Create Arbitrary Section\n",
    "Create a numpy array of ordered pairs that describes an arbitrary, simple, closed, convext polygon of *n* verticies and sides. \n",
    "\n",
    "**Note:** for visualization purposes, we need to append the first coordinate to the end of the array in order to show a closed polygon in Matplotlib."
   ]
  },
  {
   "cell_type": "code",
   "execution_count": 2,
   "id": "933bedb1-9ae1-46a1-a4d4-04617d435bb4",
   "metadata": {},
   "outputs": [
    {
     "data": {
      "text/plain": [
       "array([[-1, -2],\n",
       "       [ 4, -1],\n",
       "       [ 6,  5],\n",
       "       [ 3,  3],\n",
       "       [-3,  5],\n",
       "       [ 1,  1],\n",
       "       [-1, -2]])"
      ]
     },
     "execution_count": 2,
     "metadata": {},
     "output_type": "execute_result"
    }
   ],
   "source": [
    "vertices = np.array([[-1,-2],[4,-1],[6,5],[3,3],[-3,5],[1,1]])\n",
    "vertices = np.vstack((vertices, vertices[0]))\n",
    "vertices"
   ]
  },
  {
   "cell_type": "markdown",
   "id": "59b23cf0-9b01-4b61-9944-597b869d0b4b",
   "metadata": {},
   "source": [
    "We can check the shape of the array to make sure its n x 2:"
   ]
  },
  {
   "cell_type": "code",
   "execution_count": 3,
   "id": "ad779112-9b3e-4dc9-89fa-9a45baceecfe",
   "metadata": {},
   "outputs": [
    {
     "data": {
      "text/plain": [
       "(7, 2)"
      ]
     },
     "execution_count": 3,
     "metadata": {},
     "output_type": "execute_result"
    }
   ],
   "source": [
    "vertices.shape"
   ]
  },
  {
   "cell_type": "markdown",
   "id": "d245f40f-9001-4284-a4e6-aef9a2520419",
   "metadata": {},
   "source": [
    "Let's slice this array and visualize it using Matplotlib."
   ]
  },
  {
   "cell_type": "code",
   "execution_count": 4,
   "id": "bf59b1c3-57f1-4ae0-8b9d-8f1ee62be9bd",
   "metadata": {},
   "outputs": [],
   "source": [
    "xs = vertices[:,0]\n",
    "ys = vertices[:,1]"
   ]
  },
  {
   "cell_type": "code",
   "execution_count": 5,
   "id": "38c14cfd-d7b3-46b2-ad91-b49a6e97c07e",
   "metadata": {},
   "outputs": [
    {
     "data": {
      "text/plain": [
       "[<matplotlib.lines.Line2D at 0x2609e98b8b0>]"
      ]
     },
     "execution_count": 5,
     "metadata": {},
     "output_type": "execute_result"
    },
    {
     "data": {
      "image/png": "[encoded data removed]",
      "text/plain": [
       "<Figure size 640x480 with 1 Axes>"
      ]
     },
     "metadata": {},
     "output_type": "display_data"
    }
   ],
   "source": [
    "# First, let's create a plot\n",
    "fig, ax = plt.subplots()\n",
    "\n",
    "# Set the grid aspect ratio at 1:1 for square grids\n",
    "ax.set_aspect('equal')\n",
    "\n",
    "# Make the scale the same along both axes: 1\n",
    "ax.xaxis.set_major_locator(plt.MultipleLocator(1))\n",
    "ax.yaxis.set_major_locator(plt.MultipleLocator(1))\n",
    "\n",
    "# Show the grid\n",
    "plt.grid()\n",
    "\n",
    "# Let's put some fill inside the polygon\n",
    "ax.fill(xs, ys, color=\"skyblue\",alpha=0.5)\n",
    "\n",
    "# Finally, let's plot the polygon\n",
    "plt.plot(xs,ys,color=\"dodgerblue\",linewidth=3)"
   ]
  },
  {
   "cell_type": "markdown",
   "id": "0e1ea15c-eb01-429b-99da-e100a62ddb3a",
   "metadata": {},
   "source": [
    "Assuming the vertices array is n x 2. Note that this double counts the first point, but that's ok, we'll operate to n-1"
   ]
  },
  {
   "cell_type": "code",
   "execution_count": 6,
   "id": "6bfe3da3-98ac-4af6-bb50-d2be16f81042",
   "metadata": {},
   "outputs": [],
   "source": [
    "n = vertices.shape[0]"
   ]
  },
  {
   "cell_type": "markdown",
   "id": "e49eec81-1660-462b-9219-7c842e18f2f9",
   "metadata": {},
   "source": [
    "## Calculate the Perimeter\n",
    "Determine the perimeter of the polygon based on the following formula:\n",
    "\n",
    "$ P = \\displaystyle\\sum_{i=0}^{n-1}\\sqrt{(x_{i+1}-x_i)^2+(y_{i+1}-y_i)^2} $ "
   ]
  },
  {
   "cell_type": "code",
   "execution_count": 7,
   "id": "0147283b-3155-4796-8f8e-964bd313fd20",
   "metadata": {},
   "outputs": [
    {
     "data": {
      "text/plain": [
       "30.616086954686658"
      ]
     },
     "execution_count": 7,
     "metadata": {},
     "output_type": "execute_result"
    }
   ],
   "source": [
    "P = 0\n",
    "for i in range(0,n-1):\n",
    "    P += sqrt((xs[i+1]-xs[i])**2+(ys[i+1]-ys[i])**2)\n",
    "\n",
    "# Print P (the answer should be 30.616087)\n",
    "P"
   ]
  },
  {
   "cell_type": "code",
   "execution_count": 8,
   "id": "0aab7eb9-c797-4347-80de-c05ed849f57c",
   "metadata": {},
   "outputs": [
    {
     "data": {
      "text/plain": [
       "30.616086954686658"
      ]
     },
     "execution_count": 8,
     "metadata": {},
     "output_type": "execute_result"
    }
   ],
   "source": [
    "sc.perimeter(vertices)"
   ]
  },
  {
   "cell_type": "markdown",
   "id": "72331c5a-d2ec-4acd-bebf-8a4d292de993",
   "metadata": {},
   "source": [
    "## Calculate the Area\n",
    "Determine area based on the **shoelace algorithm**, use the *Trapezoid Formula* or *Triangle Formula* as follows (*both formula give the same answer*):\n",
    "\n",
    "$ A_{trapezoid}=\\dfrac{1}{2}\\displaystyle\\sum_{i=0}^{n-1}(y_i+y_{i+1})(x_i-x_{i+1}) $\n",
    "\n",
    "$ A_{triangle}=\\dfrac{1}{2}\\displaystyle\\sum_{i=0}^{n-1}(x_iy_{i+1}-x_{i+1}y_i) $"
   ]
  },
  {
   "cell_type": "code",
   "execution_count": 9,
   "id": "93b34568-2c70-4f9c-b7d1-74924d757d9f",
   "metadata": {},
   "outputs": [
    {
     "data": {
      "text/plain": [
       "26.5"
      ]
     },
     "execution_count": 9,
     "metadata": {},
     "output_type": "execute_result"
    }
   ],
   "source": [
    "A = 0\n",
    "for i in range(0,n-1):\n",
    "    # A += (ys[i]+ys[i+1])*(xs[i]-xs[i+1])  # Trapezoid Formula\n",
    "    A += (xs[i]*ys[i+1]-xs[i+1]*ys[i])    # Triangle Formula\n",
    "A *= 0.5\n",
    "\n",
    "# Print the area A (should be 26.5)\n",
    "A"
   ]
  },
  {
   "cell_type": "code",
   "execution_count": 10,
   "id": "efe23542-625c-4b40-9eb2-b8013f3ff70f",
   "metadata": {},
   "outputs": [
    {
     "data": {
      "text/plain": [
       "26.5"
      ]
     },
     "execution_count": 10,
     "metadata": {},
     "output_type": "execute_result"
    }
   ],
   "source": [
    "sc.area(vertices)"
   ]
  },
  {
   "cell_type": "markdown",
   "id": "a2792ce7-288c-4245-bc2f-830a30c15e9b",
   "metadata": {},
   "source": [
    "**TODO:** This only works if the polygon is *simple*, that means it doesn't self-intersect. Determine if need a function to perform Shamos-Hoey algorithm or Bentley-Ottmann algorithm, to determine if self-intersecting."
   ]
  },
  {
   "cell_type": "markdown",
   "id": "ea12b365-c6f3-45ad-895e-cd57c5c77ac2",
   "metadata": {},
   "source": [
    "## Calculate the Centroids\n",
    "Using an extension of the *Trapezoid Formula*, we can calculate the centroids Cx and Cy, using the area A calculated previously:\n",
    "\n",
    "$ C_x = \\displaystyle\\frac{1}{6A}\\sum_{i=0}^{n-1}(x_i+x_{i+1})(x_iy_{i+1}-x_{i+1}y_i) $\n",
    "\n",
    "$ C_y = \\displaystyle\\frac{1}{6A}\\sum_{i=0}^{n-1}(y_i+y_{i+1})(x_iy_{i+1}-x_{i+1}y_i) $"
   ]
  },
  {
   "cell_type": "code",
   "execution_count": 11,
   "id": "eece4537-57de-405a-b25f-38282e5baae7",
   "metadata": {},
   "outputs": [],
   "source": [
    "Cx = Cy = 0\n",
    "for i in range(0,n-1):\n",
    "    Cx += (xs[i]+xs[i+1])*(xs[i]*ys[i+1]-xs[i+1]*ys[i])\n",
    "    Cy += (ys[i]+ys[i+1])*(xs[i]*ys[i+1]-xs[i+1]*ys[i])\n",
    "Cx /= (6*A)\n",
    "Cy /= (6*A)"
   ]
  },
  {
   "cell_type": "code",
   "execution_count": 12,
   "id": "15f476d6-59b5-4c50-9e88-7fae5ed3a88c",
   "metadata": {},
   "outputs": [
    {
     "data": {
      "text/plain": [
       "(2.0754716981132075, 1.5471698113207548)"
      ]
     },
     "execution_count": 12,
     "metadata": {},
     "output_type": "execute_result"
    }
   ],
   "source": [
    "# Print Cx and Cy (should be 2.075472, 1.54717, respectively)\n",
    "Cx, Cy"
   ]
  },
  {
   "cell_type": "code",
   "execution_count": 13,
   "id": "64cf7e6b-61a6-4388-a61a-96635d7b4274",
   "metadata": {},
   "outputs": [
    {
     "data": {
      "text/plain": [
       "array([2.0754717 , 1.54716981])"
      ]
     },
     "execution_count": 13,
     "metadata": {},
     "output_type": "execute_result"
    }
   ],
   "source": [
    "sc.centroids(vertices)"
   ]
  },
  {
   "cell_type": "code",
   "execution_count": 14,
   "id": "07e04b2c-e5f3-46d0-8dba-0d0b6d90fcfe",
   "metadata": {},
   "outputs": [
    {
     "data": {
      "text/plain": [
       "(2.0754716981132075, 1.5471698113207548)"
      ]
     },
     "execution_count": 14,
     "metadata": {},
     "output_type": "execute_result"
    }
   ],
   "source": [
    "sc.Cx(vertices), sc.Cy(vertices)"
   ]
  },
  {
   "cell_type": "markdown",
   "id": "4584e3e7-0727-455e-8b70-f01191807539",
   "metadata": {},
   "source": [
    "## Calculate Extrema\n",
    "Determine the maxima and minima of the polygon:"
   ]
  },
  {
   "cell_type": "code",
   "execution_count": 15,
   "id": "7cb981cd-2fee-4bf5-b1a1-ce2c73a73e5a",
   "metadata": {},
   "outputs": [
    {
     "data": {
      "text/plain": [
       "(-3, 6)"
      ]
     },
     "execution_count": 15,
     "metadata": {},
     "output_type": "execute_result"
    }
   ],
   "source": [
    "min_x = np.min(xs)\n",
    "max_x = np.max(xs)\n",
    "min_x, max_x"
   ]
  },
  {
   "cell_type": "code",
   "execution_count": 16,
   "id": "8691b917-1cc8-4483-85a0-7c280ab20882",
   "metadata": {},
   "outputs": [
    {
     "data": {
      "text/plain": [
       "(-2, 5)"
      ]
     },
     "execution_count": 16,
     "metadata": {},
     "output_type": "execute_result"
    }
   ],
   "source": [
    "min_y = np.min(ys)\n",
    "max_y = np.max(ys)\n",
    "min_y, max_y"
   ]
  },
  {
   "cell_type": "code",
   "execution_count": 17,
   "id": "b56ebf87-f7d5-471d-a376-e66d2520ae85",
   "metadata": {},
   "outputs": [
    {
     "data": {
      "text/plain": [
       "array([[-3,  6],\n",
       "       [-2,  5]])"
      ]
     },
     "execution_count": 17,
     "metadata": {},
     "output_type": "execute_result"
    }
   ],
   "source": [
    "sc.extrema(vertices)"
   ]
  },
  {
   "cell_type": "markdown",
   "id": "7db6b816-b01a-4f9b-bb8a-a33222aab0c0",
   "metadata": {},
   "source": [
    "## Calculate the Second Moment of Area about Own Axis\n",
    "Continuing to use the *shoelace algorithm* calculate the second moments of area (moments of inertia) of the polygon as follows:\n",
    "\n",
    "$ I_y=\\dfrac{1}{12}\\displaystyle\\sum_{i=0}^{n-1}(x_iy_{i+1}-x_{i+1}y_i)(x_i^2+x_ix_{i+1}+x_{i+1}^2) $\n",
    "\n",
    "$ I_x=\\dfrac{1}{12}\\displaystyle\\sum_{i=0}^{n-1}(x_iy_{i+1}-x_{i+1}y_i)(y_i^2+y_iy_{i+1}+y_{i+1}^2) $\n",
    "\n",
    "Below is the formula for the polar moment of inertia\n",
    "\n",
    "$ I_{xy}=\\dfrac{1}{24}\\displaystyle\\sum_{i=0}^{n-1}(x_iy_{i+1}-x_{i+1}y_i)(x_iy_{i+1}+2x_iy_i+2x_{i+1}y_{i+1}+x_{i+1}y_i) $"
   ]
  },
  {
   "cell_type": "code",
   "execution_count": 18,
   "id": "36990b94-b3bc-40d5-bc55-7cae0326323d",
   "metadata": {},
   "outputs": [],
   "source": [
    "Ix = Iy = Ixy = 0\n",
    "for i in range(0,n-1):\n",
    "    Ix += (xs[i]*ys[i+1]-xs[i+1]*ys[i])*(ys[i]**2+ys[i]*ys[i+1]+ys[i+1]**2)\n",
    "    Iy += (xs[i]*ys[i+1]-xs[i+1]*ys[i])*(xs[i]**2+xs[i]*xs[i+1]+xs[i+1]**2)\n",
    "    Ixy += (xs[i]*ys[i+1]-xs[i+1]*ys[i])*(xs[i]*ys[i+1]+2*xs[i]*ys[i]+2*xs[i+1]*ys[i+1]+xs[i+1]*ys[i])\n",
    "    \n",
    "Ix /= 12\n",
    "Iy /= 12\n",
    "Ixy /= 24"
   ]
  },
  {
   "cell_type": "code",
   "execution_count": 19,
   "id": "d9efe43c-39bd-493b-88a3-aebd3a168c90",
   "metadata": {},
   "outputs": [
    {
     "data": {
      "text/plain": [
       "(140.08333333333334, 203.41666666666666, 83.79166666666667, 343.5)"
      ]
     },
     "execution_count": 19,
     "metadata": {},
     "output_type": "execute_result"
    }
   ],
   "source": [
    "Ix, Iy, Ixy, Ix+Iy"
   ]
  },
  {
   "cell_type": "markdown",
   "id": "99a24eef-c933-450b-bf36-6e0ab44ba4f5",
   "metadata": {},
   "source": [
    "**TODO:** There appears to be some sort of error calculating the *polar moment* as it should be Ix + Iy. For now, just use Ix + Iy, then use point formula in later update."
   ]
  },
  {
   "cell_type": "code",
   "execution_count": 20,
   "id": "3cd801c8-65d4-495c-8747-d18e90899a85",
   "metadata": {},
   "outputs": [
    {
     "data": {
      "text/plain": [
       "array([140.08333333, 203.41666667, 343.5       ])"
      ]
     },
     "execution_count": 20,
     "metadata": {},
     "output_type": "execute_result"
    }
   ],
   "source": [
    "sc.inertias(vertices)"
   ]
  },
  {
   "cell_type": "code",
   "execution_count": 21,
   "id": "d30cea98-0bfb-43ee-80c7-0c7c7131c1b4",
   "metadata": {},
   "outputs": [
    {
     "data": {
      "text/plain": [
       "(140.08333333333334, 203.41666666666666, 343.5)"
      ]
     },
     "execution_count": 21,
     "metadata": {},
     "output_type": "execute_result"
    }
   ],
   "source": [
    "Ix = sc.Ix(vertices)\n",
    "Iy = sc.Iy(vertices)\n",
    "Ixy = sc.Ixy(vertices)\n",
    "Ix, Iy, Ixy"
   ]
  },
  {
   "cell_type": "markdown",
   "id": "eb375d24-c60b-4bf5-9ce2-6abbf7b17851",
   "metadata": {},
   "source": [
    "## Calculate the radii of gyration\n",
    "\n",
    "$ r = \\displaystyle\\sqrt{\\frac{I}{A}} $"
   ]
  },
  {
   "cell_type": "code",
   "execution_count": 22,
   "id": "acce3fc7-2c97-433f-abc3-c52285ea781a",
   "metadata": {},
   "outputs": [
    {
     "data": {
      "text/plain": [
       "(2.2991658317773815, 2.7705776706186778)"
      ]
     },
     "execution_count": 22,
     "metadata": {},
     "output_type": "execute_result"
    }
   ],
   "source": [
    "rx = sqrt(Ix/A)\n",
    "ry = sqrt(Iy/A)\n",
    "rx, ry"
   ]
  },
  {
   "cell_type": "code",
   "execution_count": 24,
   "id": "8354bbe6-15d8-453f-b369-bc015ef785d9",
   "metadata": {},
   "outputs": [
    {
     "data": {
      "text/plain": [
       "array([2.29916583, 2.77057767])"
      ]
     },
     "execution_count": 24,
     "metadata": {},
     "output_type": "execute_result"
    }
   ],
   "source": [
    "radii = sc.radii(vertices)\n",
    "radii"
   ]
  },
  {
   "cell_type": "code",
   "execution_count": 30,
   "id": "5216f3f7-a685-4136-abce-0a74c4a98800",
   "metadata": {},
   "outputs": [
    {
     "data": {
      "text/plain": [
       "(2.2991658317773815, 2.7705776706186778)"
      ]
     },
     "execution_count": 30,
     "metadata": {},
     "output_type": "execute_result"
    }
   ],
   "source": [
    "sc.rx(vertices), sc.ry(vertices)"
   ]
  },
  {
   "cell_type": "markdown",
   "id": "51cbe48d-956b-4c59-a5a7-389cabe37149",
   "metadata": {},
   "source": [
    "Let's replot the shape, but put plot the centroid on the shape."
   ]
  },
  {
   "cell_type": "code",
   "execution_count": 81,
   "id": "4eea7500-2f12-4f8f-8aa3-ebcb1e44567a",
   "metadata": {},
   "outputs": [
    {
     "data": {
      "text/plain": [
       "Text(0, 10, 'Centroid')"
      ]
     },
     "execution_count": 81,
     "metadata": {},
     "output_type": "execute_result"
    },
    {
     "data": {
      "image/png": "[encoded data removed]",
      "text/plain": [
       "<Figure size 640x480 with 1 Axes>"
      ]
     },
     "metadata": {},
     "output_type": "display_data"
    }
   ],
   "source": [
    "fig, ax = plt.subplots()\n",
    "ax.set_aspect('equal')\n",
    "ax.xaxis.set_major_locator(plt.MultipleLocator(1))\n",
    "ax.yaxis.set_major_locator(plt.MultipleLocator(1))\n",
    "plt.grid()\n",
    "ax.fill(xs, ys, color=\"skyblue\",alpha=0.5)\n",
    "plt.plot(xs,ys,color=\"dodgerblue\",linewidth=3)\n",
    "\n",
    "plt.scatter(sc.Cx(vertices), sc.Cy(vertices),color=\"tomato\",marker=\"o\",zorder=2)\n",
    "\n",
    "plt.annotate(\"Centroid\",                             # the actual label\n",
    "                 (sc.Cx(vertices), sc.Cy(vertices)), # these are the coordinates to position the label\n",
    "                 textcoords=\"offset points\",         # how to position the text\n",
    "                 xytext=(0,10),                      # distance from text to points (x,y)\n",
    "                 ha='center',                        # horizontal alignment can be left, right or center\n",
    "                 color=\"tomato\")                        "
   ]
  },
  {
   "cell_type": "markdown",
   "id": "2fd4447f-0b95-4c06-a530-8c17132027c2",
   "metadata": {},
   "source": [
    "# Line Intersection Functions\n",
    "**TODO List**\n",
    "1. Linear interpolation\n",
    "2. Bezier parameters, *t* and *u*, to test intersection\n",
    "3. Multilinear interpolation - provide table of numbers and interpolate between the appropriate ordinates\n",
    "4. Bilinear interpolation"
   ]
  }
 ],
 "metadata": {
  "kernelspec": {
   "display_name": "Python 3 (ipykernel)",
   "language": "python",
   "name": "python3"
  },
  "language_info": {
   "codemirror_mode": {
    "name": "ipython",
    "version": 3
   },
   "file_extension": ".py",
   "mimetype": "text/x-python",
   "name": "python",
   "nbconvert_exporter": "python",
   "pygments_lexer": "ipython3",
   "version": "3.10.5"
  }
 },
 "nbformat": 4,
 "nbformat_minor": 5
}
