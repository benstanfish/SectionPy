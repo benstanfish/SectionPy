{
 "cells": [
  {
   "cell_type": "markdown",
   "id": "310ed534-afef-420b-8cc6-58278bb23df7",
   "metadata": {},
   "source": [
    "# SectionPy Module Testing Notebook\n",
    "Jupyter Notebook created by **Ben Fisher** for testing and development of the StaticsPy library and for examples and explanation of the functions"
   ]
  },
  {
   "cell_type": "markdown",
   "id": "27b1c687-3f36-4c95-ad6a-1828fcdabb77",
   "metadata": {},
   "source": [
    "## Imports"
   ]
  },
  {
   "cell_type": "code",
   "execution_count": 1,
   "id": "726249e4-6985-48ed-a99c-a6c299779f43",
   "metadata": {},
   "outputs": [
    {
     "data": {
      "text/plain": [
       "'0.0.1'"
      ]
     },
     "execution_count": 1,
     "metadata": {},
     "output_type": "execute_result"
    }
   ],
   "source": [
    "import matplotlib.patches as mpatches\n",
    "import matplotlib.pyplot as plt\n",
    "import numpy as np\n",
    "import pandas as pd\n",
    "import os, sys\n",
    "from math import sqrt\n",
    "module_path = os.path.abspath(os.path.join(\"C:\\\\Users\\\\benst\\\\Documents\\\\_0 Workspace\\\\py\\\\SectionPy\\\\SectionPy\\\\section.py\"))\n",
    "if module_path not in sys.path:\n",
    "    sys.path.append(module_path)\n",
    "import section as sc\n",
    "sc.__version__"
   ]
  },
  {
   "cell_type": "markdown",
   "id": "dbd21dc9-1432-4e1f-9147-249439ebddf5",
   "metadata": {},
   "source": [
    "## Create Arbitrary Section\n",
    "Create a numpy array of ordered pairs that describes an arbitrary, simple, closed, convext polygon of *n* verticies and sides. \n",
    "\n",
    "**Note:** for visualization purposes, we need to append the first coordinate to the end of the array in order to show a closed polygon in Matplotlib."
   ]
  },
  {
   "cell_type": "code",
   "execution_count": 2,
   "id": "933bedb1-9ae1-46a1-a4d4-04617d435bb4",
   "metadata": {},
   "outputs": [
    {
     "data": {
      "text/plain": [
       "array([[-1, -2],\n",
       "       [ 4, -1],\n",
       "       [ 6,  5],\n",
       "       [ 3,  3],\n",
       "       [-3,  5],\n",
       "       [ 1,  1],\n",
       "       [-1, -2]])"
      ]
     },
     "execution_count": 2,
     "metadata": {},
     "output_type": "execute_result"
    }
   ],
   "source": [
    "vertices = np.array([[-1,-2],[4,-1],[6,5],[3,3],[-3,5],[1,1]])\n",
    "vertices = np.vstack((vertices, vertices[0]))\n",
    "vertices"
   ]
  },
  {
   "cell_type": "markdown",
   "id": "59b23cf0-9b01-4b61-9944-597b869d0b4b",
   "metadata": {},
   "source": [
    "We can check the shape of the array to make sure its n x 2:"
   ]
  },
  {
   "cell_type": "code",
   "execution_count": 3,
   "id": "ad779112-9b3e-4dc9-89fa-9a45baceecfe",
   "metadata": {},
   "outputs": [
    {
     "data": {
      "text/plain": [
       "(7, 2)"
      ]
     },
     "execution_count": 3,
     "metadata": {},
     "output_type": "execute_result"
    }
   ],
   "source": [
    "vertices.shape"
   ]
  },
  {
   "cell_type": "markdown",
   "id": "d245f40f-9001-4284-a4e6-aef9a2520419",
   "metadata": {},
   "source": [
    "Let's slice this array and visualize it using Matplotlib."
   ]
  },
  {
   "cell_type": "code",
   "execution_count": 4,
   "id": "bf59b1c3-57f1-4ae0-8b9d-8f1ee62be9bd",
   "metadata": {},
   "outputs": [],
   "source": [
    "xs = vertices[:,0]\n",
    "ys = vertices[:,1]"
   ]
  },
  {
   "cell_type": "code",
   "execution_count": 5,
   "id": "38c14cfd-d7b3-46b2-ad91-b49a6e97c07e",
   "metadata": {},
   "outputs": [
    {
     "data": {
      "text/plain": [
       "[<matplotlib.lines.Line2D at 0x2cc982907c0>]"
      ]
     },
     "execution_count": 5,
     "metadata": {},
     "output_type": "execute_result"
    },
    {
     "data": {
      "image/png": "[encoded data removed]",
      "text/plain": [
       "<Figure size 640x480 with 1 Axes>"
      ]
     },
     "metadata": {},
     "output_type": "display_data"
    }
   ],
   "source": [
    "# First, let's create a plot\n",
    "fig, ax = plt.subplots()\n",
    "\n",
    "# Set the grid aspect ratio at 1:1 for square grids\n",
    "ax.set_aspect('equal')\n",
    "\n",
    "# Make the scale the same along both axes: 1\n",
    "ax.xaxis.set_major_locator(plt.MultipleLocator(1))\n",
    "ax.yaxis.set_major_locator(plt.MultipleLocator(1))\n",
    "\n",
    "# Show the grid\n",
    "plt.grid()\n",
    "\n",
    "# Let's put some fill inside the polygon\n",
    "ax.fill(xs, ys, color=\"skyblue\",alpha=0.5)\n",
    "\n",
    "# Finally, let's plot the polygon\n",
    "plt.plot(xs,ys,color=\"dodgerblue\",linewidth=3)"
   ]
  },
  {
   "cell_type": "markdown",
   "id": "0e1ea15c-eb01-429b-99da-e100a62ddb3a",
   "metadata": {},
   "source": [
    "Assuming the vertices array is n x 2. Note that this double counts the first point, but that's ok, we'll operate to n-1"
   ]
  },
  {
   "cell_type": "code",
   "execution_count": 6,
   "id": "6bfe3da3-98ac-4af6-bb50-d2be16f81042",
   "metadata": {},
   "outputs": [],
   "source": [
    "n = vertices.shape[0]"
   ]
  },
  {
   "cell_type": "markdown",
   "id": "e49eec81-1660-462b-9219-7c842e18f2f9",
   "metadata": {},
   "source": [
    "## Calculate the Perimeter\n",
    "Determine the perimeter of the polygon based on the following formula:\n",
    "\n",
    "$ P = \\displaystyle\\sum_{i=0}^{n-1}\\sqrt{(x_{i+1}-x_i)^2+(y_{i+1}-y_i)^2} $ "
   ]
  },
  {
   "cell_type": "code",
   "execution_count": 7,
   "id": "0147283b-3155-4796-8f8e-964bd313fd20",
   "metadata": {},
   "outputs": [
    {
     "data": {
      "text/plain": [
       "30.616086954686658"
      ]
     },
     "execution_count": 7,
     "metadata": {},
     "output_type": "execute_result"
    }
   ],
   "source": [
    "P = 0\n",
    "for i in range(0,n-1):\n",
    "    P += sqrt((xs[i+1]-xs[i])**2+(ys[i+1]-ys[i])**2)\n",
    "\n",
    "# Print P (the answer should be 30.616087)\n",
    "P"
   ]
  },
  {
   "cell_type": "code",
   "execution_count": 8,
   "id": "0aab7eb9-c797-4347-80de-c05ed849f57c",
   "metadata": {},
   "outputs": [
    {
     "data": {
      "text/plain": [
       "30.616086954686658"
      ]
     },
     "execution_count": 8,
     "metadata": {},
     "output_type": "execute_result"
    }
   ],
   "source": [
    "sc.perimeter(vertices)"
   ]
  },
  {
   "cell_type": "markdown",
   "id": "72331c5a-d2ec-4acd-bebf-8a4d292de993",
   "metadata": {},
   "source": [
    "## Calculate the Area\n",
    "Determine area based on the **shoelace algorithm**, use the *Trapezoid Formula* or *Triangle Formula* as follows (*both formula give the same answer*):\n",
    "\n",
    "$ A_{trapezoid}=\\dfrac{1}{2}\\displaystyle\\sum_{i=0}^{n-1}(y_i+y_{i+1})(x_i-x_{i+1}) $\n",
    "\n",
    "$ A_{triangle}=\\dfrac{1}{2}\\displaystyle\\sum_{i=0}^{n-1}(x_iy_{i+1}-x_{i+1}y_i) $"
   ]
  },
  {
   "cell_type": "code",
   "execution_count": 9,
   "id": "93b34568-2c70-4f9c-b7d1-74924d757d9f",
   "metadata": {},
   "outputs": [
    {
     "data": {
      "text/plain": [
       "26.5"
      ]
     },
     "execution_count": 9,
     "metadata": {},
     "output_type": "execute_result"
    }
   ],
   "source": [
    "A = 0\n",
    "for i in range(0,n-1):\n",
    "    # A += (ys[i]+ys[i+1])*(xs[i]-xs[i+1])  # Trapezoid Formula\n",
    "    A += (xs[i]*ys[i+1]-xs[i+1]*ys[i])    # Triangle Formula\n",
    "A *= 0.5\n",
    "\n",
    "# Print the area A (should be 26.5)\n",
    "A"
   ]
  },
  {
   "cell_type": "code",
   "execution_count": 10,
   "id": "efe23542-625c-4b40-9eb2-b8013f3ff70f",
   "metadata": {},
   "outputs": [
    {
     "data": {
      "text/plain": [
       "26.5"
      ]
     },
     "execution_count": 10,
     "metadata": {},
     "output_type": "execute_result"
    }
   ],
   "source": [
    "sc.area(vertices)"
   ]
  },
  {
   "cell_type": "markdown",
   "id": "a2792ce7-288c-4245-bc2f-830a30c15e9b",
   "metadata": {},
   "source": [
    "**TODO:** This only works if the polygon is *simple*, that means it doesn't self-intersect. Determine if need a function to perform Shamos-Hoey algorithm or Bentley-Ottmann algorithm, to determine if self-intersecting."
   ]
  },
  {
   "cell_type": "markdown",
   "id": "ea12b365-c6f3-45ad-895e-cd57c5c77ac2",
   "metadata": {},
   "source": [
    "## Calculate the Centroids\n",
    "Using an extension of the *Trapezoid Formula*, we can calculate the centroids Cx and Cy, using the area A calculated previously:\n",
    "\n",
    "$ C_x = \\displaystyle\\frac{1}{6A}\\sum_{i=0}^{n-1}(x_i+x_{i+1})(x_iy_{i+1}-x_{i+1}y_i) $\n",
    "\n",
    "$ C_y = \\displaystyle\\frac{1}{6A}\\sum_{i=0}^{n-1}(y_i+y_{i+1})(x_iy_{i+1}-x_{i+1}y_i) $"
   ]
  },
  {
   "cell_type": "code",
   "execution_count": 11,
   "id": "eece4537-57de-405a-b25f-38282e5baae7",
   "metadata": {},
   "outputs": [],
   "source": [
    "Cx = Cy = 0\n",
    "for i in range(0,n-1):\n",
    "    Cx += (xs[i]+xs[i+1])*(xs[i]*ys[i+1]-xs[i+1]*ys[i])\n",
    "    Cy += (ys[i]+ys[i+1])*(xs[i]*ys[i+1]-xs[i+1]*ys[i])\n",
    "Cx /= (6*A)\n",
    "Cy /= (6*A)"
   ]
  },
  {
   "cell_type": "code",
   "execution_count": 12,
   "id": "15f476d6-59b5-4c50-9e88-7fae5ed3a88c",
   "metadata": {},
   "outputs": [
    {
     "data": {
      "text/plain": [
       "(2.0754716981132075, 1.5471698113207548)"
      ]
     },
     "execution_count": 12,
     "metadata": {},
     "output_type": "execute_result"
    }
   ],
   "source": [
    "# Print Cx and Cy (should be 2.075472, 1.54717, respectively)\n",
    "Cx, Cy"
   ]
  },
  {
   "cell_type": "code",
   "execution_count": 13,
   "id": "64cf7e6b-61a6-4388-a61a-96635d7b4274",
   "metadata": {},
   "outputs": [
    {
     "data": {
      "text/plain": [
       "array([2.0754717 , 1.54716981])"
      ]
     },
     "execution_count": 13,
     "metadata": {},
     "output_type": "execute_result"
    }
   ],
   "source": [
    "sc.centroids(vertices)"
   ]
  },
  {
   "cell_type": "code",
   "execution_count": 14,
   "id": "07e04b2c-e5f3-46d0-8dba-0d0b6d90fcfe",
   "metadata": {},
   "outputs": [
    {
     "data": {
      "text/plain": [
       "(2.0754716981132075, 1.5471698113207548)"
      ]
     },
     "execution_count": 14,
     "metadata": {},
     "output_type": "execute_result"
    }
   ],
   "source": [
    "sc.Cx(vertices), sc.Cy(vertices)"
   ]
  },
  {
   "cell_type": "markdown",
   "id": "4584e3e7-0727-455e-8b70-f01191807539",
   "metadata": {},
   "source": [
    "## Calculate Extrema\n",
    "Determine the maxima and minima of the polygon:"
   ]
  },
  {
   "cell_type": "code",
   "execution_count": 15,
   "id": "7cb981cd-2fee-4bf5-b1a1-ce2c73a73e5a",
   "metadata": {},
   "outputs": [
    {
     "data": {
      "text/plain": [
       "(-3, 6)"
      ]
     },
     "execution_count": 15,
     "metadata": {},
     "output_type": "execute_result"
    }
   ],
   "source": [
    "min_x = np.min(xs)\n",
    "max_x = np.max(xs)\n",
    "min_x, max_x"
   ]
  },
  {
   "cell_type": "code",
   "execution_count": 16,
   "id": "8691b917-1cc8-4483-85a0-7c280ab20882",
   "metadata": {},
   "outputs": [
    {
     "data": {
      "text/plain": [
       "(-2, 5)"
      ]
     },
     "execution_count": 16,
     "metadata": {},
     "output_type": "execute_result"
    }
   ],
   "source": [
    "min_y = np.min(ys)\n",
    "max_y = np.max(ys)\n",
    "min_y, max_y"
   ]
  },
  {
   "cell_type": "code",
   "execution_count": 17,
   "id": "b56ebf87-f7d5-471d-a376-e66d2520ae85",
   "metadata": {},
   "outputs": [
    {
     "data": {
      "text/plain": [
       "array([[-3,  6],\n",
       "       [-2,  5]])"
      ]
     },
     "execution_count": 17,
     "metadata": {},
     "output_type": "execute_result"
    }
   ],
   "source": [
    "sc.extrema(vertices)"
   ]
  },
  {
   "cell_type": "markdown",
   "id": "7db6b816-b01a-4f9b-bb8a-a33222aab0c0",
   "metadata": {},
   "source": [
    "## Calculate the Second Moment of Area about Own Axis\n",
    "Continuing to use the *shoelace algorithm* calculate the second moments of area (moments of inertia) of the polygon as follows:\n",
    "\n",
    "$ I_y=\\dfrac{1}{12}\\displaystyle\\sum_{i=0}^{n-1}(x_iy_{i+1}-x_{i+1}y_i)(x_i^2+x_ix_{i+1}+x_{i+1}^2) $\n",
    "\n",
    "$ I_x=\\dfrac{1}{12}\\displaystyle\\sum_{i=0}^{n-1}(x_iy_{i+1}-x_{i+1}y_i)(y_i^2+y_iy_{i+1}+y_{i+1}^2) $\n",
    "\n",
    "Below is the formula for the product of inertia\n",
    "\n",
    "$ I_{xy}=\\dfrac{1}{24}\\displaystyle\\sum_{i=0}^{n-1}(x_iy_{i+1}-x_{i+1}y_i)(x_iy_{i+1}+2x_iy_i+2x_{i+1}y_{i+1}+x_{i+1}y_i) $\n",
    "\n",
    "Finally, the polar moment of inertia is determined using the perpendicular axis theorem:\n",
    "\n",
    "$ I_z = I_x + I_y $"
   ]
  },
  {
   "cell_type": "code",
   "execution_count": 18,
   "id": "36990b94-b3bc-40d5-bc55-7cae0326323d",
   "metadata": {},
   "outputs": [],
   "source": [
    "Ix = Iy = Ixy = 0\n",
    "for i in range(0,n-1):\n",
    "    Ix += (xs[i]*ys[i+1]-xs[i+1]*ys[i])*(ys[i]**2+ys[i]*ys[i+1]+ys[i+1]**2)\n",
    "    Iy += (xs[i]*ys[i+1]-xs[i+1]*ys[i])*(xs[i]**2+xs[i]*xs[i+1]+xs[i+1]**2)\n",
    "    Ixy += (xs[i]*ys[i+1]-xs[i+1]*ys[i])*(xs[i]*ys[i+1]+2*xs[i]*ys[i]+2*xs[i+1]*ys[i+1]+xs[i+1]*ys[i])\n",
    "    \n",
    "Ix /= 12\n",
    "Iy /= 12\n",
    "Ixy /= 24"
   ]
  },
  {
   "cell_type": "code",
   "execution_count": 19,
   "id": "d9efe43c-39bd-493b-88a3-aebd3a168c90",
   "metadata": {},
   "outputs": [
    {
     "data": {
      "text/plain": [
       "(140.08333333333334, 203.41666666666666, 343.5, 83.79166666666667)"
      ]
     },
     "execution_count": 19,
     "metadata": {},
     "output_type": "execute_result"
    }
   ],
   "source": [
    "Ix, Iy, Ix+Iy, Ixy"
   ]
  },
  {
   "cell_type": "code",
   "execution_count": 20,
   "id": "3cd801c8-65d4-495c-8747-d18e90899a85",
   "metadata": {},
   "outputs": [
    {
     "data": {
      "text/plain": [
       "array([140.08333333, 203.41666667, 343.5       ,  83.79166667])"
      ]
     },
     "execution_count": 20,
     "metadata": {},
     "output_type": "execute_result"
    }
   ],
   "source": [
    "sc.inertias(vertices)"
   ]
  },
  {
   "cell_type": "code",
   "execution_count": 21,
   "id": "d30cea98-0bfb-43ee-80c7-0c7c7131c1b4",
   "metadata": {},
   "outputs": [
    {
     "data": {
      "text/plain": [
       "(140.08333333333334, 203.41666666666666, 83.79166666666667)"
      ]
     },
     "execution_count": 21,
     "metadata": {},
     "output_type": "execute_result"
    }
   ],
   "source": [
    "Ix = sc.Ix(vertices)\n",
    "Iy = sc.Iy(vertices)\n",
    "Ixy = sc.Ixy(vertices)\n",
    "Ix, Iy, Ixy"
   ]
  },
  {
   "cell_type": "markdown",
   "id": "edb191b0-1603-4f76-ab0f-02a3ba9cbcce",
   "metadata": {},
   "source": [
    "## Moments of Inertia about Inclined Angle"
   ]
  },
  {
   "cell_type": "code",
   "execution_count": 22,
   "id": "fdb0c7ea-b7aa-4eca-a97b-9260acc6917b",
   "metadata": {},
   "outputs": [
    {
     "data": {
      "text/plain": [
       "False"
      ]
     },
     "execution_count": 22,
     "metadata": {},
     "output_type": "execute_result"
    }
   ],
   "source": [
    "xys = np.array([[5,0],[6,0],[6,4],[1,4],[1,7],[0,7],[0,3],[5,3]])\n",
    "(xys[0][0] == xys[-1][0]) & (xys[0][1] == xys[-1][1])"
   ]
  },
  {
   "cell_type": "code",
   "execution_count": 23,
   "id": "e73405e0-52c9-4adc-a455-0bea43ce15c8",
   "metadata": {},
   "outputs": [],
   "source": [
    "xys = sc.closePolygon(xys)"
   ]
  },
  {
   "cell_type": "code",
   "execution_count": 24,
   "id": "f52ae664-1638-4e6a-a107-7139493c1fbb",
   "metadata": {},
   "outputs": [
    {
     "data": {
      "text/plain": [
       "[<matplotlib.lines.Line2D at 0x2cc9a577bb0>]"
      ]
     },
     "execution_count": 24,
     "metadata": {},
     "output_type": "execute_result"
    },
    {
     "data": {
      "image/png": "[encoded data removed]",
      "text/plain": [
       "<Figure size 640x480 with 1 Axes>"
      ]
     },
     "metadata": {},
     "output_type": "display_data"
    }
   ],
   "source": [
    "# First, let's create a plot\n",
    "fig, ax = plt.subplots()\n",
    "\n",
    "# Set the grid aspect ratio at 1:1 for square grids\n",
    "ax.set_aspect('equal')\n",
    "\n",
    "# Make the scale the same along both axes: 1\n",
    "ax.xaxis.set_major_locator(plt.MultipleLocator(1))\n",
    "ax.yaxis.set_major_locator(plt.MultipleLocator(1))\n",
    "\n",
    "# Show the grid\n",
    "plt.grid()\n",
    "\n",
    "# Let's put some fill inside the polygon\n",
    "ax.fill(xys[:,0], xys[:,1], color=\"skyblue\",alpha=0.5)\n",
    "\n",
    "# Finally, let's plot the polygon\n",
    "plt.plot(xys[:,0], xys[:,1],color=\"dodgerblue\",linewidth=3)"
   ]
  },
  {
   "cell_type": "code",
   "execution_count": 25,
   "id": "c353f89a-13bb-49fe-8686-51c76d23332f",
   "metadata": {},
   "outputs": [
    {
     "data": {
      "text/plain": [
       "(12.0, array([3. , 3.5]))"
      ]
     },
     "execution_count": 25,
     "metadata": {},
     "output_type": "execute_result"
    }
   ],
   "source": [
    "A = sc.area(xys)\n",
    "cgs = sc.centroids(xys)\n",
    "A, cgs"
   ]
  },
  {
   "cell_type": "code",
   "execution_count": 26,
   "id": "49cd777c-3184-4af8-855b-bc3c9dfb97bb",
   "metadata": {},
   "outputs": [
    {
     "data": {
      "text/plain": [
       "array([176., 164., 340.,  96.])"
      ]
     },
     "execution_count": 26,
     "metadata": {},
     "output_type": "execute_result"
    }
   ],
   "source": [
    "inerts = sc.inertias(xys)\n",
    "inerts\n"
   ]
  },
  {
   "cell_type": "markdown",
   "id": "996e5cd0-9d81-4ebe-a92f-c16633a6b597",
   "metadata": {},
   "source": [
    "**BUG** There appears to be a bug with this, the above answers are incorrect"
   ]
  },
  {
   "cell_type": "markdown",
   "id": "3b1c9044-f788-482b-9348-656b92ac13d8",
   "metadata": {},
   "source": [
    "## Section Modulii"
   ]
  },
  {
   "cell_type": "code",
   "execution_count": 27,
   "id": "76c231c6-d5d8-44a6-b293-1795f0354103",
   "metadata": {},
   "outputs": [
    {
     "data": {
      "text/plain": [
       "(2.0754716981132075,\n",
       " 1.5471698113207548,\n",
       " array([[-3,  6],\n",
       "        [-2,  5]]))"
      ]
     },
     "execution_count": 27,
     "metadata": {},
     "output_type": "execute_result"
    }
   ],
   "source": [
    "sc.Cx(vertices), sc.Cy(vertices), sc.extrema(vertices)"
   ]
  },
  {
   "cell_type": "code",
   "execution_count": 28,
   "id": "bcd2b973-e99d-4e35-8727-71d5be4c3cca",
   "metadata": {},
   "outputs": [
    {
     "data": {
      "text/plain": [
       "(3.452830188679245, -3.547169811320755)"
      ]
     },
     "execution_count": 28,
     "metadata": {},
     "output_type": "execute_result"
    }
   ],
   "source": [
    "y_top = sc.extrema(vertices)[1][1] - sc.Cy(vertices)\n",
    "y_bot = sc.extrema(vertices)[1][0] - sc.Cy(vertices)\n",
    "y_top, y_bot"
   ]
  },
  {
   "cell_type": "code",
   "execution_count": 29,
   "id": "0b288005-214c-494f-bdcd-4c6e7a88dccf",
   "metadata": {},
   "outputs": [
    {
     "data": {
      "text/plain": [
       "(-5.0754716981132075, 3.9245283018867925)"
      ]
     },
     "execution_count": 29,
     "metadata": {},
     "output_type": "execute_result"
    }
   ],
   "source": [
    "x_left = sc.extrema(vertices)[0][0] - sc.Cx(vertices)\n",
    "x_right = sc.extrema(vertices)[0][1] - sc.Cx(vertices)\n",
    "x_left, x_right"
   ]
  },
  {
   "cell_type": "code",
   "execution_count": 30,
   "id": "d81ae671-27a1-459d-9ec7-dcf388db62e6",
   "metadata": {},
   "outputs": [
    {
     "data": {
      "text/plain": [
       "(-39.4915780141844, 40.57058287795993)"
      ]
     },
     "execution_count": 30,
     "metadata": {},
     "output_type": "execute_result"
    }
   ],
   "source": [
    "S_top = sc.Ix(vertices)/y_top\n",
    "S_bot = sc.Ix(vertices)/y_bot\n",
    "S_bot, S_top"
   ]
  },
  {
   "cell_type": "code",
   "execution_count": 31,
   "id": "cc1ee4c5-568c-4d49-984f-93c8df172ab9",
   "metadata": {},
   "outputs": [
    {
     "data": {
      "text/plain": [
       "(-40.078376703841386, 51.83213141025641)"
      ]
     },
     "execution_count": 31,
     "metadata": {},
     "output_type": "execute_result"
    }
   ],
   "source": [
    "S_left = sc.Iy(vertices)/x_left\n",
    "S_right = sc.Iy(vertices)/x_right\n",
    "S_left, S_right"
   ]
  },
  {
   "cell_type": "code",
   "execution_count": 32,
   "id": "971fcde2-efa9-47fe-a949-6566e5a29ad8",
   "metadata": {},
   "outputs": [
    {
     "data": {
      "text/plain": [
       "[-39.4915780141844, 40.57058287795993, -40.078376703841386, 51.83213141025641]"
      ]
     },
     "execution_count": 32,
     "metadata": {},
     "output_type": "execute_result"
    }
   ],
   "source": [
    "sc.sectionModulii(vertices)"
   ]
  },
  {
   "cell_type": "markdown",
   "id": "eb375d24-c60b-4bf5-9ce2-6abbf7b17851",
   "metadata": {},
   "source": [
    "## Calculate the radii of gyration\n",
    "\n",
    "$ r = \\displaystyle\\sqrt{\\frac{I}{A}} $"
   ]
  },
  {
   "cell_type": "code",
   "execution_count": 33,
   "id": "acce3fc7-2c97-433f-abc3-c52285ea781a",
   "metadata": {},
   "outputs": [
    {
     "data": {
      "text/plain": [
       "(3.416666666666667, 4.117206442345209)"
      ]
     },
     "execution_count": 33,
     "metadata": {},
     "output_type": "execute_result"
    }
   ],
   "source": [
    "rx = sqrt(Ix/A)\n",
    "ry = sqrt(Iy/A)\n",
    "rx, ry"
   ]
  },
  {
   "cell_type": "code",
   "execution_count": 34,
   "id": "8354bbe6-15d8-453f-b369-bc015ef785d9",
   "metadata": {},
   "outputs": [
    {
     "data": {
      "text/plain": [
       "array([2.29916583, 2.77057767])"
      ]
     },
     "execution_count": 34,
     "metadata": {},
     "output_type": "execute_result"
    }
   ],
   "source": [
    "radii = sc.radii(vertices)\n",
    "radii"
   ]
  },
  {
   "cell_type": "code",
   "execution_count": 35,
   "id": "5216f3f7-a685-4136-abce-0a74c4a98800",
   "metadata": {},
   "outputs": [
    {
     "data": {
      "text/plain": [
       "(2.2991658317773815, 2.7705776706186778)"
      ]
     },
     "execution_count": 35,
     "metadata": {},
     "output_type": "execute_result"
    }
   ],
   "source": [
    "sc.rx(vertices), sc.ry(vertices)"
   ]
  },
  {
   "cell_type": "markdown",
   "id": "51cbe48d-956b-4c59-a5a7-389cabe37149",
   "metadata": {},
   "source": [
    "Let's replot the shape, but put plot the centroid on the shape."
   ]
  },
  {
   "cell_type": "code",
   "execution_count": 36,
   "id": "4eea7500-2f12-4f8f-8aa3-ebcb1e44567a",
   "metadata": {},
   "outputs": [
    {
     "data": {
      "text/plain": [
       "Text(0, 10, 'Centroid')"
      ]
     },
     "execution_count": 36,
     "metadata": {},
     "output_type": "execute_result"
    },
    {
     "data": {
      "image/png": "[encoded data removed]",
      "text/plain": [
       "<Figure size 640x480 with 1 Axes>"
      ]
     },
     "metadata": {},
     "output_type": "display_data"
    }
   ],
   "source": [
    "fig, ax = plt.subplots()\n",
    "ax.set_aspect('equal')\n",
    "ax.xaxis.set_major_locator(plt.MultipleLocator(1))\n",
    "ax.yaxis.set_major_locator(plt.MultipleLocator(1))\n",
    "plt.grid()\n",
    "ax.fill(xs, ys, color=\"skyblue\",alpha=0.5)\n",
    "plt.plot(xs,ys,color=\"dodgerblue\",linewidth=3)\n",
    "\n",
    "plt.scatter(sc.Cx(vertices), sc.Cy(vertices),color=\"tomato\",marker=\"o\",zorder=2)\n",
    "\n",
    "plt.annotate(\"Centroid\",                             # the actual label\n",
    "                 (sc.Cx(vertices), sc.Cy(vertices)), # these are the coordinates to position the label\n",
    "                 textcoords=\"offset points\",         # how to position the text\n",
    "                 xytext=(0,10),                      # distance from text to points (x,y)\n",
    "                 ha='center',                        # horizontal alignment can be left, right or center\n",
    "                 color=\"tomato\")                        "
   ]
  },
  {
   "cell_type": "markdown",
   "id": "2fd4447f-0b95-4c06-a530-8c17132027c2",
   "metadata": {},
   "source": [
    "# Line Intersection Functions\n",
    "**TODO List**\n",
    "1. Linear interpolation\n",
    "2. Bezier parameters, *t* and *u*, to test intersection\n",
    "3. Multilinear interpolation - provide table of numbers and interpolate between the appropriate ordinates\n",
    "4. Bilinear interpolation\n",
    "   "
   ]
  },
  {
   "cell_type": "markdown",
   "id": "7d1e03c9-b01e-4fc9-b7ab-52f7a2a24045",
   "metadata": {},
   "source": [
    "### Define to lines from four coordinates"
   ]
  },
  {
   "cell_type": "code",
   "execution_count": 37,
   "id": "c0bca847-e43b-4456-9eec-eee00ecebdf3",
   "metadata": {},
   "outputs": [],
   "source": [
    "line1 = np.array([[0,2],[3,-4]])\n",
    "line2 = np.array([[-5,7],[1,3]])"
   ]
  },
  {
   "cell_type": "code",
   "execution_count": 38,
   "id": "696a441b-53ff-40cd-9391-d03fc17ddb81",
   "metadata": {},
   "outputs": [
    {
     "data": {
      "text/plain": [
       "array([[ 0,  2],\n",
       "       [ 3, -4]])"
      ]
     },
     "execution_count": 38,
     "metadata": {},
     "output_type": "execute_result"
    }
   ],
   "source": [
    "line1"
   ]
  },
  {
   "cell_type": "code",
   "execution_count": 39,
   "id": "46e414dc-83d8-47a4-a4f6-cf27c05fbc06",
   "metadata": {},
   "outputs": [
    {
     "data": {
      "text/plain": [
       "array([[-5,  7],\n",
       "       [ 1,  3]])"
      ]
     },
     "execution_count": 39,
     "metadata": {},
     "output_type": "execute_result"
    }
   ],
   "source": [
    "line2"
   ]
  },
  {
   "cell_type": "code",
   "execution_count": 40,
   "id": "18ecbc78-ff46-4014-bdf1-426a74261538",
   "metadata": {},
   "outputs": [
    {
     "data": {
      "text/plain": [
       "[<matplotlib.lines.Line2D at 0x2cc9a494a90>]"
      ]
     },
     "execution_count": 40,
     "metadata": {},
     "output_type": "execute_result"
    },
    {
     "data": {
      "image/png": "[encoded data removed]",
      "text/plain": [
       "<Figure size 640x480 with 1 Axes>"
      ]
     },
     "metadata": {},
     "output_type": "display_data"
    }
   ],
   "source": [
    "fig, ax = plt.subplots()\n",
    "ax.set_aspect('equal')\n",
    "ax.xaxis.set_major_locator(plt.MultipleLocator(1))\n",
    "ax.yaxis.set_major_locator(plt.MultipleLocator(1))\n",
    "plt.grid()\n",
    "plt.plot(line1[:,0], line1[:,1],color=\"tomato\",linewidth=3)\n",
    "plt.plot(line2[:,0], line2[:,1],color=\"dodgerblue\",linewidth=3)"
   ]
  },
  {
   "cell_type": "markdown",
   "id": "882cd2e8-5c2a-4e91-a5c2-3e0a28978c18",
   "metadata": {},
   "source": [
    "Test creating a determinant using the points for line1, while setting y = 1."
   ]
  },
  {
   "cell_type": "code",
   "execution_count": 41,
   "id": "7b43d276-c113-4792-860b-65424b251ace",
   "metadata": {},
   "outputs": [
    {
     "data": {
      "text/plain": [
       "array([[0, 1],\n",
       "       [3, 1]])"
      ]
     },
     "execution_count": 41,
     "metadata": {},
     "output_type": "execute_result"
    }
   ],
   "source": [
    "arr1 = line1.copy()\n",
    "arr1[:,1]=1\n",
    "arr1"
   ]
  },
  {
   "cell_type": "markdown",
   "id": "1478205c-c6d0-47bf-94c7-3fe5489dc814",
   "metadata": {},
   "source": [
    "Calculate the determinant of arr1"
   ]
  },
  {
   "cell_type": "code",
   "execution_count": 42,
   "id": "eab55388-c3d2-422a-914f-fa08882a29bc",
   "metadata": {},
   "outputs": [
    {
     "data": {
      "text/plain": [
       "-3.0000000000000004"
      ]
     },
     "execution_count": 42,
     "metadata": {},
     "output_type": "execute_result"
    }
   ],
   "source": [
    "np.linalg.det(arr1)"
   ]
  },
  {
   "cell_type": "markdown",
   "id": "6b8b53dc-4d02-4e62-a0d9-b90f54bc7f8d",
   "metadata": {},
   "source": [
    "Calculate the point x,y where the two lines would intersect (if they do). This can be done as follows.\n",
    "\n",
    "$ x_0 = \\displaystyle\\frac{\\begin{vmatrix}\\begin{vmatrix}x_1&y_1\\\\x_2&y_2\\end{vmatrix}&\\begin{vmatrix}x_1&1\\\\x_2&1\\end{vmatrix}\\\\\\begin{vmatrix}x_3&y_3\\\\x_4&y_4\\end{vmatrix}&\\begin{vmatrix}x_3&1\\\\x_4&1\\end{vmatrix}\\end{vmatrix}}{{\\begin{vmatrix}\\begin{vmatrix}x_1&1\\\\x_2&1\\end{vmatrix}&\\begin{vmatrix}y_1&1\\\\y_2&1\\end{vmatrix}\\\\\\begin{vmatrix}x_3&1\\\\x_4&1\\end{vmatrix}&\\begin{vmatrix}y_3&1\\\\y_4&1\\end{vmatrix}\\end{vmatrix}}} $\n",
    "\n",
    "$ y_0 = \\displaystyle\\frac{\\begin{vmatrix}\\begin{vmatrix}x_1&y_1\\\\x_2&y_2\\end{vmatrix}&\\begin{vmatrix}y_1&1\\\\y_2&1\\end{vmatrix}\\\\\\begin{vmatrix}x_3&y_3\\\\x_4&y_4\\end{vmatrix}&\\begin{vmatrix}y_3&1\\\\y_4&1\\end{vmatrix}\\end{vmatrix}}{{\\begin{vmatrix}\\begin{vmatrix}x_1&1\\\\x_2&1\\end{vmatrix}&\\begin{vmatrix}y_1&1\\\\y_2&1\\end{vmatrix}\\\\\\begin{vmatrix}x_3&1\\\\x_4&1\\end{vmatrix}&\\begin{vmatrix}y_3&1\\\\y_4&1\\end{vmatrix}\\end{vmatrix}}} $\n",
    "\n",
    "Notice that the demoninators are the same for both equations."
   ]
  },
  {
   "cell_type": "code",
   "execution_count": 43,
   "id": "63c5d717-6d40-42bb-b61d-a20b9cdcdff6",
   "metadata": {},
   "outputs": [
    {
     "data": {
      "text/plain": [
       "(array([[0, 1],\n",
       "        [3, 1]]),\n",
       " array([[-5,  1],\n",
       "        [ 1,  1]]))"
      ]
     },
     "execution_count": 43,
     "metadata": {},
     "output_type": "execute_result"
    }
   ],
   "source": [
    "# Form the two \"x and 1\" determinates\n",
    "x11 = line1.copy()\n",
    "x21 = line2.copy()\n",
    "x11[:,1]=1\n",
    "x21[:,1]=1\n",
    "x11, x21"
   ]
  },
  {
   "cell_type": "code",
   "execution_count": 44,
   "id": "0bdcf4f0-e0d4-4ab2-a1c2-2464b994ea1b",
   "metadata": {},
   "outputs": [
    {
     "data": {
      "text/plain": [
       "array([[ 0,  2],\n",
       "       [ 3, -4]])"
      ]
     },
     "execution_count": 44,
     "metadata": {},
     "output_type": "execute_result"
    }
   ],
   "source": [
    "# Form the two \"y and 1\" determinates\n",
    "y11 = line1.copy()\n",
    "y21 = line2.copy()\n",
    "y11"
   ]
  },
  {
   "cell_type": "code",
   "execution_count": 45,
   "id": "a776d822-e6f3-4838-aaff-0364ecacad2e",
   "metadata": {},
   "outputs": [
    {
     "data": {
      "text/plain": [
       "array([[-5,  7],\n",
       "       [ 1,  3]])"
      ]
     },
     "execution_count": 45,
     "metadata": {},
     "output_type": "execute_result"
    }
   ],
   "source": [
    "y21"
   ]
  },
  {
   "cell_type": "code",
   "execution_count": 46,
   "id": "9a65038e-db86-474e-ad51-2b4a82c2c862",
   "metadata": {},
   "outputs": [
    {
     "data": {
      "text/plain": [
       "array([[ 2,  0],\n",
       "       [-4,  3]])"
      ]
     },
     "execution_count": 46,
     "metadata": {},
     "output_type": "execute_result"
    }
   ],
   "source": [
    "# Swap the rows\n",
    "y11[:,[0,1]] = y11[:,[1,0]]\n",
    "y11"
   ]
  },
  {
   "cell_type": "code",
   "execution_count": 47,
   "id": "cc7678de-7cee-47dc-b5e7-0a81e9e1078e",
   "metadata": {},
   "outputs": [
    {
     "data": {
      "text/plain": [
       "array([[ 2,  1],\n",
       "       [-4,  1]])"
      ]
     },
     "execution_count": 47,
     "metadata": {},
     "output_type": "execute_result"
    }
   ],
   "source": [
    "y11[:,1]=1\n",
    "y11"
   ]
  },
  {
   "cell_type": "code",
   "execution_count": 48,
   "id": "58db5116-ad52-4e9d-a020-11e42b581f0a",
   "metadata": {},
   "outputs": [
    {
     "data": {
      "text/plain": [
       "array([[7, 1],\n",
       "       [3, 1]])"
      ]
     },
     "execution_count": 48,
     "metadata": {},
     "output_type": "execute_result"
    }
   ],
   "source": [
    "y21[:,[0,1]] = y21[:,[1,0]]\n",
    "y21[:,1]=1\n",
    "y21"
   ]
  },
  {
   "cell_type": "code",
   "execution_count": 49,
   "id": "a284cc36-d98e-40d5-a48d-6c6aac790c79",
   "metadata": {},
   "outputs": [
    {
     "data": {
      "text/plain": [
       "23.999999999999993"
      ]
     },
     "execution_count": 49,
     "metadata": {},
     "output_type": "execute_result"
    }
   ],
   "source": [
    "denom_det = np.linalg.det(np.array([[np.linalg.det(x11),np.linalg.det(y11)],[np.linalg.det(x21),np.linalg.det(y21)]]))\n",
    "denom_det"
   ]
  },
  {
   "cell_type": "code",
   "execution_count": 50,
   "id": "898a839f-8461-496b-9610-e2516f16bf9e",
   "metadata": {},
   "outputs": [
    {
     "data": {
      "text/plain": [
       "-1.2500000000000009"
      ]
     },
     "execution_count": 50,
     "metadata": {},
     "output_type": "execute_result"
    }
   ],
   "source": [
    "numer_det_x = np.linalg.det(np.array([[np.linalg.det(line1),np.linalg.det(x11)],[np.linalg.det(line2),np.linalg.det(x21)]]))\n",
    "x0 = numer_det_x / denom_det\n",
    "x0"
   ]
  },
  {
   "cell_type": "code",
   "execution_count": 51,
   "id": "e835559a-cafa-4692-942c-509f65a25a46",
   "metadata": {},
   "outputs": [
    {
     "data": {
      "text/plain": [
       "4.500000000000003"
      ]
     },
     "execution_count": 51,
     "metadata": {},
     "output_type": "execute_result"
    }
   ],
   "source": [
    "numer_det_y = np.linalg.det(np.array([[np.linalg.det(line1),np.linalg.det(y11)],[np.linalg.det(line2),np.linalg.det(y21)]]))\n",
    "y0 = numer_det_y / denom_det\n",
    "y0"
   ]
  },
  {
   "cell_type": "code",
   "execution_count": 52,
   "id": "d262cbce-2822-4389-ba12-e716b885825c",
   "metadata": {},
   "outputs": [
    {
     "data": {
      "text/plain": [
       "array([-1.25,  4.5 ])"
      ]
     },
     "execution_count": 52,
     "metadata": {},
     "output_type": "execute_result"
    }
   ],
   "source": [
    "sc.intersection(line1,line2)"
   ]
  },
  {
   "cell_type": "code",
   "execution_count": 53,
   "id": "699bf207-aa9a-43cb-9c48-da150c00e4c2",
   "metadata": {},
   "outputs": [
    {
     "data": {
      "text/plain": [
       "-1.2500000000000009"
      ]
     },
     "execution_count": 53,
     "metadata": {},
     "output_type": "execute_result"
    }
   ],
   "source": [
    "sc.x0(line1,line2)"
   ]
  },
  {
   "cell_type": "code",
   "execution_count": 54,
   "id": "36638c2f-c0e4-420c-82fa-da310dd047f8",
   "metadata": {},
   "outputs": [
    {
     "data": {
      "text/plain": [
       "4.500000000000003"
      ]
     },
     "execution_count": 54,
     "metadata": {},
     "output_type": "execute_result"
    }
   ],
   "source": [
    "sc.y0(line1,line2)"
   ]
  },
  {
   "cell_type": "markdown",
   "id": "10d4246c-ba8a-4fc2-920c-9d1c353c188d",
   "metadata": {},
   "source": [
    "### First Degree Bezier Parameters\n",
    "Use first degree Bezier parameters to determine if two lines intersect.\n",
    "https://en.wikipedia.org/wiki/Line%E2%80%93line_intersection"
   ]
  },
  {
   "cell_type": "code",
   "execution_count": 55,
   "id": "4ad4ed0d-2148-499a-b268-f47914907e1f",
   "metadata": {},
   "outputs": [
    {
     "data": {
      "text/plain": [
       "(-0.41666666666666674, 1.6666666666666663)"
      ]
     },
     "execution_count": 55,
     "metadata": {},
     "output_type": "execute_result"
    }
   ],
   "source": [
    "sc.bezierParams(line1, line2)"
   ]
  },
  {
   "cell_type": "code",
   "execution_count": 56,
   "id": "0c545048-f4a4-46e4-a547-97802c15c65f",
   "metadata": {},
   "outputs": [
    {
     "data": {
      "text/plain": [
       "True"
      ]
     },
     "execution_count": 56,
     "metadata": {},
     "output_type": "execute_result"
    }
   ],
   "source": [
    "sc.doLinesIntersect(line1,line2)"
   ]
  },
  {
   "cell_type": "code",
   "execution_count": 57,
   "id": "28b9d73d-994d-45f4-ae5b-237e4a20544a",
   "metadata": {},
   "outputs": [
    {
     "data": {
      "text/plain": [
       "(False, False)"
      ]
     },
     "execution_count": 57,
     "metadata": {},
     "output_type": "execute_result"
    }
   ],
   "source": [
    "sc.doSegmentsIntersect(line1,line2)"
   ]
  },
  {
   "cell_type": "code",
   "execution_count": 58,
   "id": "ecebe4e2-af2f-4821-8ae2-8a5de8946c15",
   "metadata": {},
   "outputs": [
    {
     "data": {
      "text/plain": [
       "(0.5, 0.5)"
      ]
     },
     "execution_count": 58,
     "metadata": {},
     "output_type": "execute_result"
    }
   ],
   "source": [
    "lineA = np.array([[0,0],[1,1]])\n",
    "lineB = np.array([[0,1],[1,0]])\n",
    "sc.bezierParams(lineA,lineB)"
   ]
  },
  {
   "cell_type": "code",
   "execution_count": 59,
   "id": "5030c16c-4987-4cc1-9cc2-581b87992fa0",
   "metadata": {},
   "outputs": [
    {
     "data": {
      "text/plain": [
       "(True, True)"
      ]
     },
     "execution_count": 59,
     "metadata": {},
     "output_type": "execute_result"
    }
   ],
   "source": [
    "sc.doSegmentsIntersect(lineA,lineB)"
   ]
  }
 ],
 "metadata": {
  "kernelspec": {
   "display_name": "Python 3 (ipykernel)",
   "language": "python",
   "name": "python3"
  },
  "language_info": {
   "codemirror_mode": {
    "name": "ipython",
    "version": 3
   },
   "file_extension": ".py",
   "mimetype": "text/x-python",
   "name": "python",
   "nbconvert_exporter": "python",
   "pygments_lexer": "ipython3",
   "version": "3.10.5"
  }
 },
 "nbformat": 4,
 "nbformat_minor": 5
}
